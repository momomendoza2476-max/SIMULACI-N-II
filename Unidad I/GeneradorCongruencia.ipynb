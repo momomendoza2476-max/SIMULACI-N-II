{
  "cells": [
    {
      "cell_type": "markdown",
      "metadata": {
        "id": "view-in-github",
        "colab_type": "text"
      },
      "source": [
        "<a href=\"https://colab.research.google.com/github/momomendoza2476-max/SIMULACI-N-II/blob/main/Unidad%20I/GeneradorCongruencia.ipynb\" target=\"_parent\"><img src=\"https://colab.research.google.com/assets/colab-badge.svg\" alt=\"Open In Colab\"/></a>"
      ]
    },
    {
      "cell_type": "code",
      "execution_count": 8,
      "metadata": {
        "id": "HvcGBcUBAiRs"
      },
      "outputs": [],
      "source": [
        "import tabulate"
      ]
    },
    {
      "cell_type": "code",
      "execution_count": 9,
      "metadata": {
        "id": "SWR3U4CAAiRt"
      },
      "outputs": [],
      "source": [
        "def generador(a,b,m,x0):\n",
        "    x1=(a*x0+b) %m\n",
        "    return x1"
      ]
    },
    {
      "cell_type": "code",
      "execution_count": 10,
      "metadata": {
        "colab": {
          "base_uri": "https://localhost:8080/"
        },
        "id": "n5myXhSdAiRt",
        "outputId": "b8896f0a-b3a1-4f76-c29a-1db0514b2d2d"
      },
      "outputs": [
        {
          "output_type": "stream",
          "name": "stdout",
          "text": [
            "+-----+-------+-----------+\n",
            "|  i  |  x_i  |  X_{i+1}  |\n",
            "|-----+-------+-----------|\n",
            "|  0  |   1   |    0.2    |\n",
            "|  1  |   2   |    0.7    |\n",
            "|  2  |   7   |    0.2    |\n",
            "|  3  |   2   |    0.7    |\n",
            "|  4  |   7   |    0.2    |\n",
            "|  5  |   2   |    0.7    |\n",
            "|  6  |   7   |    0.2    |\n",
            "|  7  |   2   |    0.7    |\n",
            "|  8  |   7   |    0.2    |\n",
            "|  9  |   2   |    0.7    |\n",
            "| 10  |   7   |    0.2    |\n",
            "| 11  |   2   |    0.7    |\n",
            "| 12  |   7   |    0.2    |\n",
            "| 13  |   2   |    0.7    |\n",
            "| 14  |   7   |    0.2    |\n",
            "| 15  |   2   |    0.7    |\n",
            "| 16  |   7   |    0.2    |\n",
            "| 17  |   2   |    0.7    |\n",
            "| 18  |   7   |    0.2    |\n",
            "| 19  |   2   |    0.7    |\n",
            "| 20  |   7   |    0.2    |\n",
            "| 21  |   2   |    0.7    |\n",
            "| 22  |   7   |    0.2    |\n",
            "| 23  |   2   |    0.7    |\n",
            "| 24  |   7   |    0.2    |\n",
            "| 25  |   2   |    0.7    |\n",
            "| 26  |   7   |    0.2    |\n",
            "| 27  |   2   |    0.7    |\n",
            "| 28  |   7   |    0.2    |\n",
            "| 29  |   2   |    0.7    |\n",
            "| 30  |   7   |    0.2    |\n",
            "| 31  |   2   |    0.7    |\n",
            "| 32  |   7   |    0.2    |\n",
            "| 33  |   2   |    0.7    |\n",
            "| 34  |   7   |    0.2    |\n",
            "| 35  |   2   |    0.7    |\n",
            "| 36  |   7   |    0.2    |\n",
            "| 37  |   2   |    0.7    |\n",
            "| 38  |   7   |    0.2    |\n",
            "| 39  |   2   |    0.7    |\n",
            "| 40  |   7   |    0.2    |\n",
            "| 41  |   2   |    0.7    |\n",
            "| 42  |   7   |    0.2    |\n",
            "| 43  |   2   |    0.7    |\n",
            "| 44  |   7   |    0.2    |\n",
            "| 45  |   2   |    0.7    |\n",
            "| 46  |   7   |    0.2    |\n",
            "| 47  |   2   |    0.7    |\n",
            "| 48  |   7   |    0.2    |\n",
            "| 49  |   2   |    0.7    |\n",
            "| 50  |   7   |    0.2    |\n",
            "| 51  |   2   |    0.7    |\n",
            "| 52  |   7   |    0.2    |\n",
            "| 53  |   2   |    0.7    |\n",
            "| 54  |   7   |    0.2    |\n",
            "| 55  |   2   |    0.7    |\n",
            "| 56  |   7   |    0.2    |\n",
            "| 57  |   2   |    0.7    |\n",
            "| 58  |   7   |    0.2    |\n",
            "| 59  |   2   |    0.7    |\n",
            "| 60  |   7   |    0.2    |\n",
            "| 61  |   2   |    0.7    |\n",
            "| 62  |   7   |    0.2    |\n",
            "| 63  |   2   |    0.7    |\n",
            "+-----+-------+-----------+\n"
          ]
        }
      ],
      "source": [
        "n=64\n",
        "a=5\n",
        "b=7\n",
        "m=10\n",
        "x0=1\n",
        "\n",
        "muestra=[]\n",
        "datos=[]\n",
        "\n",
        "for i in range(n):\n",
        "    nuevo=generador(a,b,m,x0)\n",
        "    muestra.append([i,x0,nuevo/10])\n",
        "    datos.append(x0/10)\n",
        "    x0=nuevo\n",
        "\n",
        "encabezados=[\"i\", \"x_i\", \"X_{i+1}\"]\n",
        "print(tabulate.tabulate(muestra, headers=encabezados,tablefmt=\"psql\",numalign=\"center\"))"
      ]
    },
    {
      "cell_type": "code",
      "execution_count": 11,
      "metadata": {
        "colab": {
          "base_uri": "https://localhost:8080/"
        },
        "id": "tTQ_c_xmAiRu",
        "outputId": "ef79c1df-947f-4578-dc56-b30e7318b33a"
      },
      "outputs": [
        {
          "output_type": "stream",
          "name": "stdout",
          "text": [
            "[0.1, 0.2, 0.7, 0.2, 0.7, 0.2, 0.7, 0.2, 0.7, 0.2, 0.7, 0.2, 0.7, 0.2, 0.7, 0.2, 0.7, 0.2, 0.7, 0.2, 0.7, 0.2, 0.7, 0.2, 0.7, 0.2, 0.7, 0.2, 0.7, 0.2, 0.7, 0.2, 0.7, 0.2, 0.7, 0.2, 0.7, 0.2, 0.7, 0.2, 0.7, 0.2, 0.7, 0.2, 0.7, 0.2, 0.7, 0.2, 0.7, 0.2, 0.7, 0.2, 0.7, 0.2, 0.7, 0.2, 0.7, 0.2, 0.7, 0.2, 0.7, 0.2, 0.7, 0.2]\n"
          ]
        }
      ],
      "source": [
        "print(datos)"
      ]
    },
    {
      "cell_type": "code",
      "execution_count": 11,
      "metadata": {
        "id": "BMYnK3d7AiRu"
      },
      "outputs": [],
      "source": []
    }
  ],
  "metadata": {
    "kernelspec": {
      "display_name": "Python 3",
      "language": "python",
      "name": "python3"
    },
    "language_info": {
      "codemirror_mode": {
        "name": "ipython",
        "version": 3
      },
      "file_extension": ".py",
      "mimetype": "text/x-python",
      "name": "python",
      "nbconvert_exporter": "python",
      "pygments_lexer": "ipython3",
      "version": "3.8.3"
    },
    "colab": {
      "provenance": [],
      "include_colab_link": true
    }
  },
  "nbformat": 4,
  "nbformat_minor": 0
}