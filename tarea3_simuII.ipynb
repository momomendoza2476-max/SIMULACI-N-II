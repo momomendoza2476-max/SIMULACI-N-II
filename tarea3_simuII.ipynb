{
  "nbformat": 4,
  "nbformat_minor": 0,
  "metadata": {
    "colab": {
      "provenance": [],
      "authorship_tag": "ABX9TyMHvY/+UT2SRPvZsbaBuRbp",
      "include_colab_link": true
    },
    "kernelspec": {
      "name": "python3",
      "display_name": "Python 3"
    },
    "language_info": {
      "name": "python"
    }
  },
  "cells": [
    {
      "cell_type": "markdown",
      "metadata": {
        "id": "view-in-github",
        "colab_type": "text"
      },
      "source": [
        "<a href=\"https://colab.research.google.com/github/momomendoza2476-max/SIMULACI-N-II/blob/main/tarea3_simuII.ipynb\" target=\"_parent\"><img src=\"https://colab.research.google.com/assets/colab-badge.svg\" alt=\"Open In Colab\"/></a>"
      ]
    },
    {
      "cell_type": "code",
      "source": [
        "import numpy as np\n",
        "from math import pi"
      ],
      "metadata": {
        "id": "U-UoNChl0sug"
      },
      "execution_count": 3,
      "outputs": []
    },
    {
      "cell_type": "code",
      "source": [
        "N = 10000"
      ],
      "metadata": {
        "id": "o5TOd9Np1O4P"
      },
      "execution_count": 4,
      "outputs": []
    },
    {
      "cell_type": "code",
      "source": [
        "def f(x):\n",
        "    return 1 / (1 + x**2)"
      ],
      "metadata": {
        "id": "BPAe6Bmk1O6h"
      },
      "execution_count": 5,
      "outputs": []
    },
    {
      "cell_type": "code",
      "source": [
        "#MC CRUDO\n",
        "u = np.random.rand(N)\n",
        "X = f(u)\n",
        "I_crudo = np.mean(X)\n",
        "var_crudo = np.var(X, ddof=1) / N"
      ],
      "metadata": {
        "id": "TXNJWwlq1O9N"
      },
      "execution_count": 6,
      "outputs": []
    },
    {
      "cell_type": "code",
      "source": [
        "#VARIABLE DE CONTROL\n",
        "Y = u                       #var de control\n",
        "cov_xy = np.cov(X, Y, ddof=1)[0,1]\n",
        "var_y = np.var(Y, ddof=1)\n",
        "c_opt = -cov_xy / var_y\n",
        "Z = X + c_opt * (Y - 0.5)   #nuevo estimador\n",
        "I_control = np.mean(Z)\n",
        "var_control = np.var(Z, ddof=1) / N"
      ],
      "metadata": {
        "id": "Z5qYT0B51O_t"
      },
      "execution_count": 7,
      "outputs": []
    },
    {
      "cell_type": "code",
      "source": [
        "reduccion = 100 * (var_crudo - var_control) / var_crudo"
      ],
      "metadata": {
        "id": "Jx1v5pPL1PCb"
      },
      "execution_count": 8,
      "outputs": []
    },
    {
      "cell_type": "code",
      "source": [
        "print(f\"Valor real: {pi/4:.6f}\")\n",
        "print(f\"MC crudo: {I_crudo:.6f}\")\n",
        "print(f\"MC con control: {I_control:.6f}\")\n",
        "print(f\"c óptimo: {c_opt:.4f}\")\n",
        "print(f\"Reducción de varianza: {reduccion:.2f}%\")"
      ],
      "metadata": {
        "colab": {
          "base_uri": "https://localhost:8080/"
        },
        "id": "tSeeQkjh13qB",
        "outputId": "983d3bc2-266d-493c-a85f-7e26e961ba98"
      },
      "execution_count": 9,
      "outputs": [
        {
          "output_type": "stream",
          "name": "stdout",
          "text": [
            "Valor real: 0.785398\n",
            "MC crudo: 0.785230\n",
            "MC con control: 0.785221\n",
            "c óptimo: 0.5528\n",
            "Reducción de varianza: 98.77%\n"
          ]
        }
      ]
    },
    {
      "cell_type": "code",
      "source": [],
      "metadata": {
        "id": "cJUCHm9f17AW"
      },
      "execution_count": null,
      "outputs": []
    }
  ]
}