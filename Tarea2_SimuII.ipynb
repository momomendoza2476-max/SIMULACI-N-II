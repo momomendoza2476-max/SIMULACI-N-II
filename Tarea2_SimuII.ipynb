{
  "nbformat": 4,
  "nbformat_minor": 0,
  "metadata": {
    "colab": {
      "provenance": [],
      "authorship_tag": "ABX9TyNrtoYDyaKz0+RJ0Q8PC8ou",
      "include_colab_link": true
    },
    "kernelspec": {
      "name": "python3",
      "display_name": "Python 3"
    },
    "language_info": {
      "name": "python"
    }
  },
  "cells": [
    {
      "cell_type": "markdown",
      "metadata": {
        "id": "view-in-github",
        "colab_type": "text"
      },
      "source": [
        "<a href=\"https://colab.research.google.com/github/momomendoza2476-max/SIMULACI-N-II/blob/main/Tarea2_SimuII.ipynb\" target=\"_parent\"><img src=\"https://colab.research.google.com/assets/colab-badge.svg\" alt=\"Open In Colab\"/></a>"
      ]
    },
    {
      "cell_type": "code",
      "execution_count": 1,
      "metadata": {
        "id": "44wohNE5z7on"
      },
      "outputs": [],
      "source": [
        "import numpy as np\n",
        "import matplotlib.pyplot as plt"
      ]
    },
    {
      "cell_type": "code",
      "source": [
        "def g(x):\n",
        "    return np.sqrt(np.arctan(x))"
      ],
      "metadata": {
        "id": "FNDCuWdb0GCL"
      },
      "execution_count": 2,
      "outputs": []
    },
    {
      "cell_type": "code",
      "source": [
        "def mc_crudo(n):\n",
        "    U = np.random.rand(n)\n",
        "    return np.mean(g(U))"
      ],
      "metadata": {
        "id": "Id_XV4Z_0GFB"
      },
      "execution_count": 3,
      "outputs": []
    },
    {
      "cell_type": "code",
      "source": [
        "def mc_antitetico(n):\n",
        "    U = np.random.rand(n)\n",
        "    return np.mean((g(U) + g(1 - U)) / 2)"
      ],
      "metadata": {
        "id": "5UN4Vq4D0GHv"
      },
      "execution_count": 4,
      "outputs": []
    },
    {
      "cell_type": "code",
      "source": [
        "n = 1000\n",
        "N = 200"
      ],
      "metadata": {
        "id": "njXbjuiM0GKY"
      },
      "execution_count": 5,
      "outputs": []
    },
    {
      "cell_type": "code",
      "source": [
        "crudo = [mc_crudo(n) for _ in range(N)]\n",
        "ant   = [mc_antitetico(n) for _ in range(N)]"
      ],
      "metadata": {
        "id": "MKs5R9eN0GNG"
      },
      "execution_count": 6,
      "outputs": []
    },
    {
      "cell_type": "code",
      "source": [
        "print(\"MC Crudo -> media:\", np.mean(crudo),\n",
        "      \" varianza:\", np.var(crudo),\n",
        "      \" std:\", np.std(crudo))\n",
        "\n",
        "print(\"MC Antitético -> media:\", np.mean(ant),\n",
        "      \" varianza:\", np.var(ant),\n",
        "      \" std:\", np.std(ant))\n",
        "\n",
        "reduccion = (np.var(crudo) - np.var(ant)) / np.var(crudo) * 100\n",
        "print(\"Reducción de varianza:\", reduccion, \"%\")"
      ],
      "metadata": {
        "colab": {
          "base_uri": "https://localhost:8080/"
        },
        "id": "1F5CpjS80GQH",
        "outputId": "8bb5be8a-3199-4038-e1b9-514deb873e73"
      },
      "execution_count": 7,
      "outputs": [
        {
          "output_type": "stream",
          "name": "stdout",
          "text": [
            "MC Crudo -> media: 0.6297105668915366  varianza: 4.117833633272808e-05  std: 0.0064170348551903685\n",
            "MC Antitético -> media: 0.6299854583473427  varianza: 2.9750831352923776e-06  std: 0.0017248429306149524\n",
            "Reducción de varianza: 92.77512546584401 %\n"
          ]
        }
      ]
    },
    {
      "cell_type": "code",
      "source": [],
      "metadata": {
        "id": "8wA1sLE60TOh"
      },
      "execution_count": null,
      "outputs": []
    }
  ]
}