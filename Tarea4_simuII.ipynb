{
  "nbformat": 4,
  "nbformat_minor": 0,
  "metadata": {
    "colab": {
      "provenance": [],
      "authorship_tag": "ABX9TyOD4K9NWOLVziRKJ6z3IUru",
      "include_colab_link": true
    },
    "kernelspec": {
      "name": "python3",
      "display_name": "Python 3"
    },
    "language_info": {
      "name": "python"
    }
  },
  "cells": [
    {
      "cell_type": "markdown",
      "metadata": {
        "id": "view-in-github",
        "colab_type": "text"
      },
      "source": [
        "<a href=\"https://colab.research.google.com/github/momomendoza2476-max/SIMULACI-N-II/blob/main/Tarea4_simuII.ipynb\" target=\"_parent\"><img src=\"https://colab.research.google.com/assets/colab-badge.svg\" alt=\"Open In Colab\"/></a>"
      ]
    },
    {
      "cell_type": "markdown",
      "source": [
        "#$$ I = \\int_0^1 \\cos\\left(\\frac{\\pi x}{2}\\right) dx $$"
      ],
      "metadata": {
        "id": "j3kx4mS08uJz"
      }
    },
    {
      "cell_type": "code",
      "source": [
        "import numpy as np"
      ],
      "metadata": {
        "id": "vmwfvEd-7vkR"
      },
      "execution_count": 4,
      "outputs": []
    },
    {
      "cell_type": "code",
      "source": [
        "N = 10000"
      ],
      "metadata": {
        "id": "cpc3BoLN7vmq"
      },
      "execution_count": 5,
      "outputs": []
    },
    {
      "cell_type": "code",
      "source": [
        "#MC CRUDO\n",
        "x = np.random.rand(N)\n",
        "f = np.cos(np.pi * x / 2)\n",
        "I_crudo = np.mean(f)\n",
        "var_crudo = np.var(f) / N"
      ],
      "metadata": {
        "id": "h9vStEhn7vqD"
      },
      "execution_count": 6,
      "outputs": []
    },
    {
      "cell_type": "code",
      "source": [
        "#MUESTREO IMPORTANCIA\n",
        "# $$ g(x) = \\frac{6}{5}\\left(1 - \\frac{x^2}{2}\\right), \\quad 0 \\le x \\le 1 $$\n",
        "x_prop = np.random.rand(N)\n",
        "y = np.random.rand(N) * (6/5)\n",
        "g_x = (6/5)*(1 - x_prop**2/2)"
      ],
      "metadata": {
        "id": "WEkYoMWC89o6"
      },
      "execution_count": 7,
      "outputs": []
    },
    {
      "cell_type": "code",
      "source": [
        "x_g = x_prop[y < g_x]"
      ],
      "metadata": {
        "id": "axkTgGjh89hw"
      },
      "execution_count": 8,
      "outputs": []
    },
    {
      "cell_type": "code",
      "source": [
        "f_g = np.cos(np.pi * x_g / 2)\n",
        "w = f_g / g_x[y < g_x]\n",
        "I_importancia = np.mean(w)\n",
        "var_importancia = np.var(w) / len(w)"
      ],
      "metadata": {
        "id": "DA-xd5679aqa"
      },
      "execution_count": 9,
      "outputs": []
    },
    {
      "cell_type": "code",
      "source": [
        "reduccion = (1 - var_importancia / var_crudo) * 100\n",
        "I_real = 2 / np.pi"
      ],
      "metadata": {
        "id": "m57rIxg-9ayq"
      },
      "execution_count": 10,
      "outputs": []
    },
    {
      "cell_type": "code",
      "source": [
        "print(\"Estimación MC crudo:        \", round(I_crudo, 6))\n",
        "print(\"Estimación MC importancia:  \", round(I_importancia, 6))\n",
        "print(\"Valor real:                 \", round(I_real, 6))\n",
        "print(\"-----------------------------------------------\")\n",
        "print(\"Varianza MC crudo:         \", f\"{var_crudo:.6e}\")\n",
        "print(\"Varianza MC importancia:   \", f\"{var_importancia:.6e}\")\n",
        "print(\"Reducción de varianza:     \", f\"{reduccion:.2f}%\")"
      ],
      "metadata": {
        "colab": {
          "base_uri": "https://localhost:8080/"
        },
        "id": "ymTxIm9R9gOA",
        "outputId": "4cc9b590-77d0-4492-b423-dfff8f13f465"
      },
      "execution_count": 11,
      "outputs": [
        {
          "output_type": "stream",
          "name": "stdout",
          "text": [
            "Estimación MC crudo:         0.640907\n",
            "Estimación MC importancia:   0.635597\n",
            "Valor real:                  0.63662\n",
            "-----------------------------------------------\n",
            "Varianza MC crudo:          9.578853e-06\n",
            "Varianza MC importancia:    5.360021e-06\n",
            "Reducción de varianza:      44.04%\n"
          ]
        }
      ]
    },
    {
      "cell_type": "code",
      "source": [],
      "metadata": {
        "id": "W22dud7h_EkD"
      },
      "execution_count": 11,
      "outputs": []
    }
  ]
}