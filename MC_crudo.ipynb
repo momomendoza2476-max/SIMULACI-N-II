{
  "nbformat": 4,
  "nbformat_minor": 0,
  "metadata": {
    "colab": {
      "provenance": [],
      "authorship_tag": "ABX9TyPutwvJ0eUQA0TXtV0rSYMr",
      "include_colab_link": true
    },
    "kernelspec": {
      "name": "python3",
      "display_name": "Python 3"
    },
    "language_info": {
      "name": "python"
    }
  },
  "cells": [
    {
      "cell_type": "markdown",
      "metadata": {
        "id": "view-in-github",
        "colab_type": "text"
      },
      "source": [
        "<a href=\"https://colab.research.google.com/github/momomendoza2476-max/SIMULACI-N-II/blob/main/MC_crudo.ipynb\" target=\"_parent\"><img src=\"https://colab.research.google.com/assets/colab-badge.svg\" alt=\"Open In Colab\"/></a>"
      ]
    },
    {
      "cell_type": "code",
      "source": [
        "import numpy as np\n",
        "import matplotlib.pyplot as plt\n",
        "import scipy.stats as st\n",
        "import random as rd"
      ],
      "metadata": {
        "id": "U2sBVdPu8JEL"
      },
      "execution_count": 4,
      "outputs": []
    },
    {
      "cell_type": "code",
      "source": [
        "\n",
        "def g(x):\n",
        "  return np.sqrt(np.arctan(x))"
      ],
      "metadata": {
        "id": "v8-qsRNFR6iS"
      },
      "execution_count": 5,
      "outputs": []
    },
    {
      "cell_type": "code",
      "source": [
        "X=np.linspace(0,1,100)\n",
        "plt.plot(X,g(X))"
      ],
      "metadata": {
        "id": "vEqECBFM9QPx",
        "outputId": "8f55ec58-1d57-4e32-81c9-afe98dad0e48",
        "colab": {
          "base_uri": "https://localhost:8080/",
          "height": 448
        }
      },
      "execution_count": 6,
      "outputs": [
        {
          "output_type": "execute_result",
          "data": {
            "text/plain": [
              "[<matplotlib.lines.Line2D at 0x7eed52be66c0>]"
            ]
          },
          "metadata": {},
          "execution_count": 6
        },
        {
          "output_type": "display_data",
          "data": {
            "text/plain": [
              "<Figure size 640x480 with 1 Axes>"
            ],
            "image/png": "[encoded data removed]"
          },
          "metadata": {}
        }
      ]
    },
    {
      "cell_type": "markdown",
      "source": [],
      "metadata": {
        "id": "GbmkA_mw9PwS"
      }
    },
    {
      "cell_type": "markdown",
      "source": [
        "###Este es el método de montecarlo crudo"
      ],
      "metadata": {
        "id": "INy2fbT194GI"
      }
    },
    {
      "cell_type": "code",
      "source": [],
      "metadata": {
        "id": "gx6uVSLy93BI"
      },
      "execution_count": 6,
      "outputs": []
    },
    {
      "cell_type": "code",
      "source": [
        "def crudo(N):\n",
        "    G=[]\n",
        "    for i in range(N):\n",
        "        u=rd.random()\n",
        "        G.append(g(u))\n",
        "    return np.mean(G),np.var(G), np.std(G), G\n"
      ],
      "metadata": {
        "id": "Zffy1V_IL2_R"
      },
      "execution_count": 7,
      "outputs": []
    },
    {
      "cell_type": "code",
      "source": [
        "e=crudo(100)"
      ],
      "metadata": {
        "id": "13pWo8re_NJ2"
      },
      "execution_count": 8,
      "outputs": []
    },
    {
      "cell_type": "code",
      "source": [
        "e[0]"
      ],
      "metadata": {
        "id": "z7h2N-H-_dvj",
        "outputId": "b788f2f1-325b-479c-ed3e-9fa1596f5fba",
        "colab": {
          "base_uri": "https://localhost:8080/"
        }
      },
      "execution_count": 9,
      "outputs": [
        {
          "output_type": "execute_result",
          "data": {
            "text/plain": [
              "np.float64(0.646933876004027)"
            ]
          },
          "metadata": {},
          "execution_count": 9
        }
      ]
    },
    {
      "cell_type": "code",
      "source": [
        "print (\"El valor estimado es:\",e[0], \"\\n La varianza es:\" ,e[1], \"\\n La desviacion estandar es:\", e[2])"
      ],
      "metadata": {
        "id": "GEA-Mp6sANz3",
        "outputId": "0189bf2f-820f-488e-9982-f624c3ea8d54",
        "colab": {
          "base_uri": "https://localhost:8080/"
        }
      },
      "execution_count": 14,
      "outputs": [
        {
          "output_type": "stream",
          "name": "stdout",
          "text": [
            "El valor estimado es: 0.646933876004027 \n",
            " La varianza es: 0.041866336593676445 \n",
            " La desviacion estandar es: 0.20461265013111102\n"
          ]
        }
      ]
    },
    {
      "cell_type": "code",
      "source": [
        "L=[]\n",
        "for i in range (1000):\n",
        "\tz=crudo(i)\n",
        " \tL.append(z[0]) #recordar que la funcion crudo devuelve un arreglo, necesitamos la media\n",
        ""
      ],
      "metadata": {
        "id": "l4vGImXxAOdR",
        "outputId": "b87103c8-f317-43cd-f3d1-57e1736c9317",
        "colab": {
          "base_uri": "https://localhost:8080/",
          "height": 110
        }
      },
      "execution_count": 17,
      "outputs": [
        {
          "output_type": "error",
          "ename": "TabError",
          "evalue": "inconsistent use of tabs and spaces in indentation (ipython-input-2095295953.py, line 4)",
          "traceback": [
            "\u001b[0;36m  File \u001b[0;32m\"/tmp/ipython-input-2095295953.py\"\u001b[0;36m, line \u001b[0;32m4\u001b[0m\n\u001b[0;31m    L.append(z[0]) #recordar que la funcion crudo devuelve un arreglo, necesitamos la media\u001b[0m\n\u001b[0m    ^\u001b[0m\n\u001b[0;31mTabError\u001b[0m\u001b[0;31m:\u001b[0m inconsistent use of tabs and spaces in indentation\n"
          ]
        }
      ]
    },
    {
      "cell_type": "code",
      "source": [
        "n=np.mean(L)\n",
        "sigma=np.std(L)"
      ],
      "metadata": {
        "id": "V125PCZxHUyQ"
      },
      "execution_count": null,
      "outputs": []
    },
    {
      "cell_type": "code",
      "source": [
        "plt.plot(L)\n",
        "plt.tittle(\"Estimación de $I$ vs $N$\")\n",
        "plt.xlabel(\"Tamalo de la muestra\")\n",
        "plt.ylabel(\"Estimacion de $I$\")\n",
        "plt.axvline(500, color=\"red\")\n",
        "plt.axhline(m, color=\"red\")\n",
        "plt.axhline(m+sigma, color=\"red\")\n",
        "plt.axhline(m-sigma, color=\"red\")\n",
        "plt.annotate(\"Región estable\",xy=(800,0.75), color=\"red\")\n",
        "plt.annotate(\"Valor de la integral\", xy=(800,0,64)\n",
        "\n",
        "\n"
      ],
      "metadata": {
        "id": "-e2_h6PNAO5D",
        "outputId": "58cfe394-01db-4467-cf6c-e4edac8ae95e",
        "colab": {
          "base_uri": "https://localhost:8080/",
          "height": 164
        }
      },
      "execution_count": 15,
      "outputs": [
        {
          "output_type": "error",
          "ename": "NameError",
          "evalue": "name 'L' is not defined",
          "traceback": [
            "\u001b[0;31m---------------------------------------------------------------------------\u001b[0m",
            "\u001b[0;31mNameError\u001b[0m                                 Traceback (most recent call last)",
            "\u001b[0;32m/tmp/ipython-input-2667178124.py\u001b[0m in \u001b[0;36m<cell line: 0>\u001b[0;34m()\u001b[0m\n\u001b[0;32m----> 1\u001b[0;31m \u001b[0mplt\u001b[0m\u001b[0;34m.\u001b[0m\u001b[0mplot\u001b[0m\u001b[0;34m(\u001b[0m\u001b[0mL\u001b[0m\u001b[0;34m)\u001b[0m\u001b[0;34m\u001b[0m\u001b[0;34m\u001b[0m\u001b[0m\n\u001b[0m\u001b[1;32m      2\u001b[0m \u001b[0mplt\u001b[0m\u001b[0;34m.\u001b[0m\u001b[0mtittle\u001b[0m\u001b[0;34m(\u001b[0m\u001b[0;34m\"Estimación de $I$ vs $N$\"\u001b[0m\u001b[0;34m)\u001b[0m\u001b[0;34m\u001b[0m\u001b[0;34m\u001b[0m\u001b[0m\n",
            "\u001b[0;31mNameError\u001b[0m: name 'L' is not defined"
          ]
        }
      ]
    },
    {
      "cell_type": "code",
      "source": [],
      "metadata": {
        "id": "J7AbNv9QAPSx"
      },
      "execution_count": 10,
      "outputs": []
    }
  ]
}