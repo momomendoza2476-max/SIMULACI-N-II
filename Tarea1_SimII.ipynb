{
  "nbformat": 4,
  "nbformat_minor": 0,
  "metadata": {
    "colab": {
      "provenance": [],
      "authorship_tag": "ABX9TyMliTRdpuBUIg+PzHcBSpgW",
      "include_colab_link": true
    },
    "kernelspec": {
      "name": "python3",
      "display_name": "Python 3"
    },
    "language_info": {
      "name": "python"
    }
  },
  "cells": [
    {
      "cell_type": "markdown",
      "metadata": {
        "id": "view-in-github",
        "colab_type": "text"
      },
      "source": [
        "<a href=\"https://colab.research.google.com/github/momomendoza2476-max/SIMULACI-N-II/blob/main/Tarea1_SimII.ipynb\" target=\"_parent\"><img src=\"https://colab.research.google.com/assets/colab-badge.svg\" alt=\"Open In Colab\"/></a>"
      ]
    },
    {
      "cell_type": "markdown",
      "source": [
        "Tarea 1.\n"
      ],
      "metadata": {
        "id": "N9co4YOqTPwM"
      }
    },
    {
      "cell_type": "code",
      "execution_count": 12,
      "metadata": {
        "id": "3m5BgdB0QToy"
      },
      "outputs": [],
      "source": [
        "import numpy as np\n",
        "import matplotlib.pyplot as plt\n",
        "import random as rd\n",
        "import time"
      ]
    },
    {
      "cell_type": "code",
      "source": [
        "n = 100 #tamaño de la muestra\n",
        "N = 100 #número de simulaciones"
      ],
      "metadata": {
        "id": "u98xdSJmQZGB"
      },
      "execution_count": 13,
      "outputs": []
    },
    {
      "cell_type": "code",
      "source": [
        "def g(x):\n",
        "    return np.sqrt(np.arctan(x))"
      ],
      "metadata": {
        "id": "Etg5ijtQQZDU"
      },
      "execution_count": 14,
      "outputs": []
    },
    {
      "cell_type": "markdown",
      "source": [
        "Monte Carlo Crudo"
      ],
      "metadata": {
        "id": "qDxVKVwSR0oj"
      }
    },
    {
      "cell_type": "code",
      "source": [
        "def mc_crudo(n):\n",
        "    U = np.random.rand(n)\n",
        "    G = g(U)\n",
        "    return np.mean(G)"
      ],
      "metadata": {
        "id": "VaZY5lWYQZAI"
      },
      "execution_count": 15,
      "outputs": []
    },
    {
      "cell_type": "markdown",
      "source": [
        "Monte Carlo Acierto y Error"
      ],
      "metadata": {
        "id": "RLOJtvKSR3Ih"
      }
    },
    {
      "cell_type": "code",
      "source": [
        "#Monte Carlo Acierto y Error\n",
        "def mc_acierto_error(n):\n",
        "    aciertos = 0\n",
        "    for i in range(n):\n",
        "        x = rd.random()\n",
        "        y = rd.random()\n",
        "        if y <= g(x):\n",
        "            aciertos += 1\n",
        "    return aciertos / n"
      ],
      "metadata": {
        "id": "jhi8_p-fRDLE"
      },
      "execution_count": 16,
      "outputs": []
    },
    {
      "cell_type": "code",
      "source": [
        "def simulacion(N, n, metodo):\n",
        "    estimaciones = []\n",
        "    for _ in range(N):\n",
        "        estimaciones.append(metodo(n))\n",
        "    estimaciones = np.array(estimaciones)\n",
        "    return np.mean(estimaciones), np.var(estimaciones), np.std(estimaciones), estimaciones"
      ],
      "metadata": {
        "id": "vanHEVHhRDNv"
      },
      "execution_count": 17,
      "outputs": []
    },
    {
      "cell_type": "code",
      "source": [
        "#Crudo\n",
        "start = time.time()\n",
        "media_crudo, var_crudo, std_crudo, est_crudo = simulacion(N, n, mc_crudo)\n",
        "t1 = time.time() - start"
      ],
      "metadata": {
        "id": "7y_Z_99NRDQ0"
      },
      "execution_count": 18,
      "outputs": []
    },
    {
      "cell_type": "code",
      "source": [
        "#Acierto y Error\n",
        "start = time.time()\n",
        "media_ae, var_ae, std_ae, est_ae = simulacion(N, n, mc_acierto_error)\n",
        "t2 = time.time() - start"
      ],
      "metadata": {
        "id": "Z90t-dYtQY9i"
      },
      "execution_count": 19,
      "outputs": []
    },
    {
      "cell_type": "code",
      "source": [
        "print(\"MONTE CARLO CRUDO\")\n",
        "print(\"Estimación prom:\", media_crudo)\n",
        "print(\"Varianza de las estimaciones:\", var_crudo)\n",
        "print(\"Desviación estándar:\", std_crudo)\n",
        "print(\"Tiempo total:\", t1, \"seg\")"
      ],
      "metadata": {
        "colab": {
          "base_uri": "https://localhost:8080/"
        },
        "id": "qcPpplwJQY6n",
        "outputId": "74c0457e-af59-43c5-f9e1-d00128b1ddbd"
      },
      "execution_count": 20,
      "outputs": [
        {
          "output_type": "stream",
          "name": "stdout",
          "text": [
            "MONTE CARLO CRUDO\n",
            "Estimación prom: 0.6281427470556589\n",
            "Varianza de las estimaciones: 0.00044583559282580716\n",
            "Desviación estándar: 0.021114819270498318\n",
            "Tiempo total: 0.0034027099609375 seg\n"
          ]
        }
      ]
    },
    {
      "cell_type": "code",
      "source": [
        "print(\"MONTE CARLO ACIERTO Y ERROR\")\n",
        "print(\"Estimación promedio:\", media_ae)\n",
        "print(\"Varianza de las estimaciones:\", var_ae)\n",
        "print(\"Desviación estándar:\", std_ae)\n",
        "print(\"Tiempo total:\", t2, \"seg\")"
      ],
      "metadata": {
        "colab": {
          "base_uri": "https://localhost:8080/"
        },
        "id": "gRbcW1I6QY3q",
        "outputId": "0f462611-6e64-46de-e548-8902d597a3ce"
      },
      "execution_count": 21,
      "outputs": [
        {
          "output_type": "stream",
          "name": "stdout",
          "text": [
            "MONTE CARLO ACIERTO Y ERROR\n",
            "Estimación promedio: 0.6176\n",
            "Varianza de las estimaciones: 0.0027382399999999994\n",
            "Desviación estándar: 0.052328195076841694\n",
            "Tiempo total: 0.03953289985656738 seg\n"
          ]
        }
      ]
    },
    {
      "cell_type": "code",
      "source": [
        "E = (t2 * var_ae) / (t1 * var_crudo)\n",
        "print(\"EFICIENCIA\")\n",
        "print(\"ε = (t2 * Var(AE)) / (t1 * Var(Crudo)) =\", E)\n",
        "if E<1:\n",
        "    print(\"→ El método Acierto–Error es más eficiente.\")\n",
        "else:\n",
        "    print(\"→ El método Crudo es más eficiente.\")"
      ],
      "metadata": {
        "colab": {
          "base_uri": "https://localhost:8080/"
        },
        "id": "2H1VkNhHQY0s",
        "outputId": "f4cebe88-f953-4ba3-d05f-03dd86ba3368"
      },
      "execution_count": 22,
      "outputs": [
        {
          "output_type": "stream",
          "name": "stdout",
          "text": [
            "EFICIENCIA\n",
            "ε = (t2 * Var(AE)) / (t1 * Var(Crudo)) = 71.356002693041\n",
            "→ El método Crudo es más eficiente.\n"
          ]
        }
      ]
    },
    {
      "cell_type": "code",
      "source": [],
      "metadata": {
        "id": "yfZ0rLEVQYto"
      },
      "execution_count": 22,
      "outputs": []
    }
  ]
}